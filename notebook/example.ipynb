{
 "cells": [
  {
   "cell_type": "code",
   "execution_count": null,
   "metadata": {},
   "outputs": [],
   "source": [
    "using Normalize"
   ]
  },
  {
   "cell_type": "markdown",
   "metadata": {},
   "source": [
    "## normalize"
   ]
  },
  {
   "cell_type": "code",
   "execution_count": null,
   "metadata": {},
   "outputs": [],
   "source": [
    "normalize(Vector{Float64}(), \"-0-\")"
   ]
  },
  {
   "cell_type": "code",
   "execution_count": null,
   "metadata": {},
   "outputs": [],
   "source": [
    "normalize([NaN, -2, 0, NaN, 2, NaN], \"-0-\")"
   ]
  },
  {
   "cell_type": "code",
   "execution_count": null,
   "metadata": {},
   "outputs": [],
   "source": [
    "try\n",
    "\n",
    "    normalize(Float64.([-1, 0, 1]), \"sum\")\n",
    "\n",
    "catch error_\n",
    "\n",
    "    println(error_)\n",
    "\n",
    "end"
   ]
  },
  {
   "cell_type": "code",
   "execution_count": null,
   "metadata": {},
   "outputs": [],
   "source": [
    "for f_ in ([0], [1], [0, 0, 0], [1, 1, 1], [0, 1, 2])\n",
    "    \n",
    "    f_ = Float64.(f_)\n",
    "    \n",
    "    println('='^80)\n",
    "\n",
    "    println(f_)\n",
    "\n",
    "    println('='^80)\n",
    "\n",
    "    for method in (\"-0-\", \"0-1\", \"sum\")\n",
    "        \n",
    "        println(method)\n",
    "\n",
    "        println(normalize(f_, method))\n",
    "\n",
    "    end\n",
    "\n",
    "end"
   ]
  },
  {
   "cell_type": "code",
   "execution_count": null,
   "metadata": {},
   "outputs": [],
   "source": [
    "for f_ in ([0], [-1, 0, 0, 1, 1, 1, 2])\n",
    "    \n",
    "    f_ = Float64.(f_)\n",
    "    \n",
    "    println('='^80)\n",
    "\n",
    "    println(f_)\n",
    "\n",
    "    println('='^80)\n",
    "\n",
    "    for method in (\"1234\", \"1224\", \"1223\", \"1 2.5 2.5 4\")\n",
    "        \n",
    "        println(method)\n",
    "\n",
    "        println(normalize(f_, method))\n",
    "\n",
    "    end\n",
    "\n",
    "end"
   ]
  }
 ],
 "metadata": {
  "@webio": {
   "lastCommId": null,
   "lastKernelId": null
  },
  "kernelspec": {
   "display_name": "Julia 1.6.0",
   "language": "julia",
   "name": "julia-1.6"
  },
  "language_info": {
   "file_extension": ".jl",
   "mimetype": "application/julia",
   "name": "julia",
   "version": "1.6.0"
  }
 },
 "nbformat": 4,
 "nbformat_minor": 4
}
