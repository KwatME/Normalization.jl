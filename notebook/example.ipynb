{
 "cells": [
  {
   "cell_type": "code",
   "execution_count": 1,
   "metadata": {},
   "outputs": [],
   "source": [
    "using Normalization"
   ]
  },
  {
   "cell_type": "markdown",
   "metadata": {},
   "source": [
    "## normalize"
   ]
  },
  {
   "cell_type": "code",
   "execution_count": 2,
   "metadata": {},
   "outputs": [
    {
     "data": {
      "text/plain": [
       "Float64[]"
      ]
     },
     "execution_count": 2,
     "metadata": {},
     "output_type": "execute_result"
    }
   ],
   "source": [
    "normalize(Vector{Float64}(), \"-0-\")"
   ]
  },
  {
   "cell_type": "code",
   "execution_count": 3,
   "metadata": {},
   "outputs": [
    {
     "data": {
      "text/plain": [
       "6-element Vector{Float64}:\n",
       " NaN\n",
       "  -1.0\n",
       "   0.0\n",
       " NaN\n",
       "   1.0\n",
       " NaN"
      ]
     },
     "execution_count": 3,
     "metadata": {},
     "output_type": "execute_result"
    }
   ],
   "source": [
    "normalize([NaN, -2, 0, NaN, 2, NaN], \"-0-\")"
   ]
  },
  {
   "cell_type": "code",
   "execution_count": 4,
   "metadata": {},
   "outputs": [
    {
     "name": "stdout",
     "output_type": "stream",
     "text": [
      "ErrorException(\"m=sum can not normalize a vector containing any negative number.\")\n"
     ]
    }
   ],
   "source": [
    "try\n",
    "\n",
    "    normalize(Float64.([-1, 0, 1]), \"sum\")\n",
    "\n",
    "catch e\n",
    "\n",
    "    println(e)\n",
    "\n",
    "end"
   ]
  },
  {
   "cell_type": "code",
   "execution_count": 5,
   "metadata": {},
   "outputs": [
    {
     "name": "stdout",
     "output_type": "stream",
     "text": [
      "================================================================================\n",
      "[0.0]\n",
      "================================================================================\n",
      "-0-\n",
      "[NaN]\n",
      "0-1\n",
      "[NaN]\n",
      "sum\n",
      "[NaN]\n",
      "================================================================================\n",
      "[1.0]\n",
      "================================================================================\n",
      "-0-\n",
      "[NaN]\n",
      "0-1\n",
      "[NaN]\n",
      "sum\n",
      "[1.0]\n",
      "================================================================================\n",
      "[0.0, 0.0, 0.0]\n",
      "================================================================================\n",
      "-0-\n",
      "[NaN, NaN, NaN]\n",
      "0-1\n",
      "[NaN, NaN, NaN]\n",
      "sum\n",
      "[NaN, NaN, NaN]\n",
      "================================================================================\n",
      "[1.0, 1.0, 1.0]\n",
      "================================================================================\n",
      "-0-\n",
      "[NaN, NaN, NaN]\n",
      "0-1\n",
      "[NaN, NaN, NaN]\n",
      "sum\n",
      "[0.3333333333333333, 0.3333333333333333, 0.3333333333333333]\n",
      "================================================================================\n",
      "[0.0, 1.0, 2.0]\n",
      "================================================================================\n",
      "-0-\n",
      "[-1.0, 0.0, 1.0]\n",
      "0-1\n",
      "[0.0, 0.5, 1.0]\n",
      "sum\n",
      "[0.0, 0.3333333333333333, 0.6666666666666666]\n"
     ]
    }
   ],
   "source": [
    "for f_ in ([0], [1], [0, 0, 0], [1, 1, 1], [0, 1, 2])\n",
    "    \n",
    "    f_ = Float64.(f_)\n",
    "    \n",
    "    println('='^80)\n",
    "\n",
    "    println(f_)\n",
    "    \n",
    "    println('='^80)\n",
    "\n",
    "    for m in (\"-0-\", \"0-1\", \"sum\")\n",
    "        \n",
    "        println(m)\n",
    "\n",
    "        println(normalize(f_, m))\n",
    "\n",
    "    end\n",
    "\n",
    "end"
   ]
  },
  {
   "cell_type": "code",
   "execution_count": 6,
   "metadata": {},
   "outputs": [
    {
     "name": "stdout",
     "output_type": "stream",
     "text": [
      "================================================================================\n",
      "[0.0]\n",
      "================================================================================\n",
      "1234\n",
      "[1.0]\n",
      "1224\n",
      "[1.0]\n",
      "1223\n",
      "[1.0]\n",
      "1 2.5 2.5 4\n",
      "[1.0]\n",
      "================================================================================\n",
      "[-1.0, 0.0, 0.0, 1.0, 1.0, 1.0, 2.0]\n",
      "================================================================================\n",
      "1234\n",
      "[1.0, 2.0, 3.0, 4.0, 5.0, 6.0, 7.0]\n",
      "1224\n",
      "[1.0, 2.0, 2.0, 4.0, 4.0, 4.0, 7.0]\n",
      "1223\n",
      "[1.0, 2.0, 2.0, 3.0, 3.0, 3.0, 4.0]\n",
      "1 2.5 2.5 4\n",
      "[1.0, 2.5, 2.5, 5.0, 5.0, 5.0, 7.0]\n"
     ]
    }
   ],
   "source": [
    "for f_ in ([0], [-1, 0, 0, 1, 1, 1, 2])\n",
    "    \n",
    "    f_ = Float64.(f_)\n",
    "    \n",
    "    println('='^80)\n",
    "\n",
    "    println(f_)\n",
    "\n",
    "    println('='^80)\n",
    "\n",
    "    for m in (\"1234\", \"1224\", \"1223\", \"1 2.5 2.5 4\")\n",
    "        \n",
    "        println(m)\n",
    "\n",
    "        println(normalize(f_, m))\n",
    "\n",
    "    end\n",
    "\n",
    "end"
   ]
  }
 ],
 "metadata": {
  "@webio": {
   "lastCommId": null,
   "lastKernelId": null
  },
  "kernelspec": {
   "display_name": "Julia 1.6.0",
   "language": "julia",
   "name": "julia-1.6"
  },
  "language_info": {
   "file_extension": ".jl",
   "mimetype": "application/julia",
   "name": "julia",
   "version": "1.6.0"
  }
 },
 "nbformat": 4,
 "nbformat_minor": 4
}
