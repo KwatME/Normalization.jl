{
 "cells": [
  {
   "cell_type": "code",
   "execution_count": 1,
   "metadata": {},
   "outputs": [
    {
     "name": "stderr",
     "output_type": "stream",
     "text": [
      "┌ Info: Precompiling Normalize [57040077-074e-4771-b556-e8e2740270f5]\n",
      "└ @ Base loading.jl:1278\n"
     ]
    }
   ],
   "source": [
    "using Normalize"
   ]
  },
  {
   "cell_type": "markdown",
   "metadata": {},
   "source": [
    "## normalize"
   ]
  },
  {
   "cell_type": "code",
   "execution_count": 5,
   "metadata": {},
   "outputs": [
    {
     "data": {
      "text/plain": [
       "Float64[]"
      ]
     },
     "execution_count": 5,
     "metadata": {},
     "output_type": "execute_result"
    }
   ],
   "source": [
    "normalize(Vector{Float64}(), \"-0-\")"
   ]
  },
  {
   "cell_type": "code",
   "execution_count": 6,
   "metadata": {},
   "outputs": [
    {
     "data": {
      "text/plain": [
       "6-element Array{Float64,1}:\n",
       " NaN\n",
       "  -1.0\n",
       "   0.0\n",
       " NaN\n",
       "   1.0\n",
       " NaN"
      ]
     },
     "execution_count": 6,
     "metadata": {},
     "output_type": "execute_result"
    }
   ],
   "source": [
    "normalize([NaN, -2, 0, NaN, 2, NaN], \"-0-\")"
   ]
  },
  {
   "cell_type": "code",
   "execution_count": 8,
   "metadata": {},
   "outputs": [
    {
     "name": "stdout",
     "output_type": "stream",
     "text": [
      "ErrorException(\"method=sum can not normalize a vector containing any negative number.\")\n"
     ]
    }
   ],
   "source": [
    "try\n",
    "\n",
    "    normalize(Float64.([-1, 0, 1]), \"sum\")\n",
    "\n",
    "catch error_\n",
    "\n",
    "    println(error_)\n",
    "\n",
    "end"
   ]
  },
  {
   "cell_type": "code",
   "execution_count": 9,
   "metadata": {},
   "outputs": [
    {
     "name": "stdout",
     "output_type": "stream",
     "text": [
      "================================================================================\n",
      "[0.0]\n",
      "================================================================================\n",
      "-0-\n",
      "[NaN]\n",
      "0-1\n",
      "[NaN]\n",
      "sum\n",
      "[NaN]\n",
      "================================================================================\n",
      "[1.0]\n",
      "================================================================================\n",
      "-0-\n",
      "[NaN]\n",
      "0-1\n",
      "[NaN]\n",
      "sum\n",
      "[1.0]\n",
      "================================================================================\n",
      "[0.0, 0.0, 0.0]\n",
      "================================================================================\n",
      "-0-\n",
      "[NaN, NaN, NaN]\n",
      "0-1\n",
      "[NaN, NaN, NaN]\n",
      "sum\n",
      "[NaN, NaN, NaN]\n",
      "================================================================================\n",
      "[1.0, 1.0, 1.0]\n",
      "================================================================================\n",
      "-0-\n",
      "[NaN, NaN, NaN]\n",
      "0-1\n",
      "[NaN, NaN, NaN]\n",
      "sum\n",
      "[0.3333333333333333, 0.3333333333333333, 0.3333333333333333]\n",
      "================================================================================\n",
      "[0.0, 1.0, 2.0]\n",
      "================================================================================\n",
      "-0-\n",
      "[-1.0, 0.0, 1.0]\n",
      "0-1\n",
      "[0.0, 0.5, 1.0]\n",
      "sum\n",
      "[0.0, 0.3333333333333333, 0.6666666666666666]\n"
     ]
    }
   ],
   "source": [
    "for f_ in ([0], [1], [0, 0, 0], [1, 1, 1], [0, 1, 2])\n",
    "    \n",
    "    f_ = Float64.(f_)\n",
    "    \n",
    "    println('='^80)\n",
    "\n",
    "    println(f_)\n",
    "\n",
    "    println('='^80)\n",
    "\n",
    "    for method in (\"-0-\", \"0-1\", \"sum\")\n",
    "        \n",
    "        println(method)\n",
    "\n",
    "        println(normalize(f_, method))\n",
    "\n",
    "    end\n",
    "\n",
    "end"
   ]
  },
  {
   "cell_type": "code",
   "execution_count": 10,
   "metadata": {},
   "outputs": [
    {
     "name": "stdout",
     "output_type": "stream",
     "text": [
      "================================================================================\n",
      "[0.0]\n",
      "================================================================================\n",
      "1234\n",
      "[1.0]\n",
      "1224\n",
      "[1.0]\n",
      "1223\n",
      "[1.0]\n",
      "1 2.5 2.5 4\n",
      "[1.0]\n",
      "================================================================================\n",
      "[-1.0, 0.0, 0.0, 1.0, 1.0, 1.0, 2.0]\n",
      "================================================================================\n",
      "1234\n",
      "[1.0, 2.0, 3.0, 4.0, 5.0, 6.0, 7.0]\n",
      "1224\n",
      "[1.0, 2.0, 2.0, 4.0, 4.0, 4.0, 7.0]\n",
      "1223\n",
      "[1.0, 2.0, 2.0, 3.0, 3.0, 3.0, 4.0]\n",
      "1 2.5 2.5 4\n",
      "[1.0, 2.5, 2.5, 5.0, 5.0, 5.0, 7.0]\n"
     ]
    }
   ],
   "source": [
    "for f_ in ([0], [-1, 0, 0, 1, 1, 1, 2])\n",
    "    \n",
    "    f_ = Float64.(f_)\n",
    "    \n",
    "    println('='^80)\n",
    "\n",
    "    println(f_)\n",
    "\n",
    "    println('='^80)\n",
    "\n",
    "    for method in (\"1234\", \"1224\", \"1223\", \"1 2.5 2.5 4\")\n",
    "        \n",
    "        println(method)\n",
    "\n",
    "        println(normalize(f_, method))\n",
    "\n",
    "    end\n",
    "\n",
    "end"
   ]
  }
 ],
 "metadata": {
  "@webio": {
   "lastCommId": null,
   "lastKernelId": null
  },
  "kernelspec": {
   "display_name": "Julia 1.5.3",
   "language": "julia",
   "name": "julia-1.5"
  },
  "language_info": {
   "file_extension": ".jl",
   "mimetype": "application/julia",
   "name": "julia",
   "version": "1.5.3"
  }
 },
 "nbformat": 4,
 "nbformat_minor": 4
}
